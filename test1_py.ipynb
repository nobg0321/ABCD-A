{
  "nbformat": 4,
  "nbformat_minor": 0,
  "metadata": {
    "colab": {
      "provenance": [],
      "authorship_tag": "ABX9TyPOnuN4l3AuI0HV7i6daetE",
      "include_colab_link": true
    },
    "kernelspec": {
      "name": "python3",
      "display_name": "Python 3"
    },
    "language_info": {
      "name": "python"
    }
  },
  "cells": [
    {
      "cell_type": "markdown",
      "metadata": {
        "id": "view-in-github",
        "colab_type": "text"
      },
      "source": [
        "<a href=\"https://colab.research.google.com/github/nobg0321/ABCD-A/blob/main/test1_py.ipynb\" target=\"_parent\"><img src=\"https://colab.research.google.com/assets/colab-badge.svg\" alt=\"Open In Colab\"/></a>"
      ]
    },
    {
      "cell_type": "code",
      "execution_count": null,
      "metadata": {
        "colab": {
          "base_uri": "https://localhost:8080/"
        },
        "id": "704oYdSG7lr7",
        "outputId": "f452dbdf-3039-47c4-f6d2-d0095a6448d9"
      },
      "outputs": [
        {
          "output_type": "stream",
          "name": "stdout",
          "text": [
            "pig\n",
            "dad\n",
            "100000\n",
            "pigdad\n",
            "pig dad\n"
          ]
        }
      ],
      "source": [
        "watch = 100000\n",
        "\n",
        "a = 'pig'\n",
        "b = 'dad'\n",
        "\n",
        "print(a)\n",
        "print(b)\n",
        "print(watch)\n",
        "print(a+b)\n",
        "print(a+' '+b)"
      ]
    },
    {
      "cell_type": "code",
      "source": [
        "aa = 1\n",
        "bb = 100\n",
        "\n",
        "aa,bb = bb,aa\n",
        "print(aa)\n",
        "print(bb)"
      ],
      "metadata": {
        "colab": {
          "base_uri": "https://localhost:8080/"
        },
        "id": "XU8KAtfUDN67",
        "outputId": "fc0c1140-9423-4e1c-9404-4b299cd90927"
      },
      "execution_count": null,
      "outputs": [
        {
          "output_type": "stream",
          "name": "stdout",
          "text": [
            "100\n",
            "1\n"
          ]
        }
      ]
    },
    {
      "cell_type": "code",
      "source": [
        "#에제입니다.\n",
        "\n",
        "a1 = [10,20,30]\n",
        "b1 = a1\n",
        "a1[0] = 200    #에제입니다.\n",
        "print(b1)"
      ],
      "metadata": {
        "colab": {
          "base_uri": "https://localhost:8080/"
        },
        "id": "sA1DbLIoDpAw",
        "outputId": "1a5f948d-e978-4c1c-af9a-5367191356af"
      },
      "execution_count": null,
      "outputs": [
        {
          "output_type": "stream",
          "name": "stdout",
          "text": [
            "[200, 20, 30]\n"
          ]
        }
      ]
    },
    {
      "cell_type": "code",
      "source": [
        "# print 사용 예제입니다.\n",
        "\n",
        "print(\"Hello Word\")\n",
        "print('Hello Word')\n",
        "print(1)\n",
        "a=1\n",
        "print(a)\n",
        "print(\"1\")\n",
        "c =1\n",
        "print(\"c=\"+str(c))\n",
        "print(\"c=\",c)\n",
        "print(\"c={}\".format(c))"
      ],
      "metadata": {
        "colab": {
          "base_uri": "https://localhost:8080/"
        },
        "id": "5v5pcK9PFAG4",
        "outputId": "80f963f5-e467-4513-d05d-1eb28be0ff44"
      },
      "execution_count": null,
      "outputs": [
        {
          "output_type": "stream",
          "name": "stdout",
          "text": [
            "Hello Word\n",
            "Hello Word\n",
            "1\n",
            "1\n",
            "1\n",
            "c=1\n",
            "c= 1\n",
            "c=1\n"
          ]
        }
      ]
    },
    {
      "cell_type": "code",
      "source": [
        "# day1 프로그램\n",
        "a = [10, 20, 30]\n",
        "b = 1\n",
        "c = 2\n",
        "print(a)\n",
        "print(\"a={}\".format(a))\n",
        "print(\"b={}\".format(b))\n",
        "print(\"a={}, b={}, c={}\".format(a, b, c))\n",
        "print(\"a={}, b={}, c={}\".format(a[0], b, c))"
      ],
      "metadata": {
        "colab": {
          "base_uri": "https://localhost:8080/"
        },
        "id": "NN5iAmQXHDdQ",
        "outputId": "fd9266b4-c0d3-4d9d-fc02-e0f0e0836760"
      },
      "execution_count": null,
      "outputs": [
        {
          "output_type": "stream",
          "name": "stdout",
          "text": [
            "[10, 20, 30]\n",
            "a=[10, 20, 30]\n",
            "b=1\n",
            "a=[10, 20, 30], b=1, c=2\n",
            "a=10, b=1, c=2\n"
          ]
        }
      ]
    }
  ]
}