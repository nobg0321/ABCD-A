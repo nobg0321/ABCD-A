{
  "nbformat": 4,
  "nbformat_minor": 0,
  "metadata": {
    "colab": {
      "provenance": [],
      "authorship_tag": "ABX9TyPDSH7UMz0q48owe9rqLSG/",
      "include_colab_link": true
    },
    "kernelspec": {
      "name": "python3",
      "display_name": "Python 3"
    },
    "language_info": {
      "name": "python"
    }
  },
  "cells": [
    {
      "cell_type": "markdown",
      "metadata": {
        "id": "view-in-github",
        "colab_type": "text"
      },
      "source": [
        "<a href=\"https://colab.research.google.com/github/nobg0321/ABCD-A/blob/20250310/%ED%8C%8C%EC%9D%B4%EC%8D%AC_%EA%B8%B0%EC%B4%882.ipynb\" target=\"_parent\"><img src=\"https://colab.research.google.com/assets/colab-badge.svg\" alt=\"Open In Colab\"/></a>"
      ]
    },
    {
      "cell_type": "code",
      "execution_count": 3,
      "metadata": {
        "colab": {
          "base_uri": "https://localhost:8080/"
        },
        "id": "yfZEXyeqFscU",
        "outputId": "fde227ba-4183-4a4a-f044-9e7b7cc6b57a"
      },
      "outputs": [
        {
          "output_type": "stream",
          "name": "stdout",
          "text": [
            "Hello\n",
            "hello everyone\n",
            "helloeveryone\n"
          ]
        }
      ],
      "source": [
        "print(\"Hello\")\n",
        "print('hello', 'everyone')\n",
        "print('hello'+'everyone')"
      ]
    },
    {
      "cell_type": "code",
      "source": [
        "a = 123\n",
        "b = 'hello'\n",
        "print(a,b)\n",
        "print(a,456,b,'world')"
      ],
      "metadata": {
        "colab": {
          "base_uri": "https://localhost:8080/"
        },
        "id": "MRtYoZhpG1-W",
        "outputId": "10e97645-7ae0-4540-e824-7ccda52a4533"
      },
      "execution_count": 8,
      "outputs": [
        {
          "output_type": "stream",
          "name": "stdout",
          "text": [
            "123 hello\n",
            "123 456 hello world\n"
          ]
        }
      ]
    },
    {
      "cell_type": "code",
      "source": [
        "print('Hello Python!')\n",
        "print(\"Nice to meet you.\")\n",
        "print('Hello \"Python\"')\n",
        "print(\"Hello 'Python'\")\n",
        "print('Hello','Python!')\n",
        "print('Hello' + 'Python!')"
      ],
      "metadata": {
        "colab": {
          "base_uri": "https://localhost:8080/"
        },
        "id": "jk6X3r6xHFQN",
        "outputId": "90669787-0e78-4ea6-ce89-caaff3ad7951"
      },
      "execution_count": 33,
      "outputs": [
        {
          "output_type": "stream",
          "name": "stdout",
          "text": [
            "Hello Python!\n",
            "Nice to meet you.\n",
            "Hello \"Python\"\n",
            "Hello 'Python'\n",
            "Hello Python!\n",
            "HelloPython!\n"
          ]
        }
      ]
    },
    {
      "cell_type": "code",
      "source": [
        "print(\"화면에 직접 출력\")\n",
        "print('ab\\'c')\n",
        "print(\"ab'c\")\n",
        "print(\"doesn't\")\n",
        "print('doesn')\n",
        "print('doesn\\'t')\n",
        "print(\"'string'\")\n",
        "print(\"\\\"string\\\"\")\n",
        "print('\"string\"')"
      ],
      "metadata": {
        "colab": {
          "base_uri": "https://localhost:8080/"
        },
        "id": "8IFtBzbRH56Y",
        "outputId": "a43a4320-a064-4ced-a0dd-ab9795f51851"
      },
      "execution_count": 15,
      "outputs": [
        {
          "output_type": "stream",
          "name": "stdout",
          "text": [
            "화면에 직접 출력\n",
            "ab'c\n",
            "ab'c\n",
            "doesn't\n",
            "doesn\n",
            "doesn't\n",
            "'string'\n",
            "\"string\"\n",
            "\"string\"\n"
          ]
        }
      ]
    },
    {
      "cell_type": "code",
      "source": [
        "s1 = '화면에 직접 출력'\n",
        "s2 = 'ab\\'c'\n",
        "s3 = 'does'\n",
        "print(s1)\n",
        "print(s2)\n",
        "print(s3)\n",
        "print(s1[0]) # 첫 글자\n",
        "print(s2[1]) # 두 번째 글자\n",
        "print(s3[1:3])\n",
        "print(s3[-1]) # 마지막 글자\n",
        "print(s3[-2]) # 뒤에서 두 번째"
      ],
      "metadata": {
        "colab": {
          "base_uri": "https://localhost:8080/"
        },
        "id": "FaWIVUShJgHX",
        "outputId": "10246e32-4d1b-4f37-b9af-30349d516a75"
      },
      "execution_count": 17,
      "outputs": [
        {
          "output_type": "stream",
          "name": "stdout",
          "text": [
            "화면에 직접 출력\n",
            "ab'c\n",
            "does\n",
            "화\n",
            "b\n",
            "oe\n",
            "s\n",
            "e\n"
          ]
        }
      ]
    },
    {
      "cell_type": "code",
      "source": [
        "a = 2\n",
        "b = 3.14\n",
        "c = a+b\n",
        "print(a)\n",
        "print(b)\n",
        "print(c)\n",
        "print(round(c,2))\n",
        "print(\"%.2f\" %(c))\n",
        "print(a+b)\n",
        "print(a,b,a+b,c)\n",
        "d = 1e2\n",
        "e = 1e-2\n",
        "print(d)\n",
        "print(e)"
      ],
      "metadata": {
        "colab": {
          "base_uri": "https://localhost:8080/"
        },
        "id": "baS2GfD1LJ1S",
        "outputId": "43663440-cc3a-41d4-9c44-81bfb4c3c785"
      },
      "execution_count": 20,
      "outputs": [
        {
          "output_type": "stream",
          "name": "stdout",
          "text": [
            "2\n",
            "3.14\n",
            "5.140000000000001\n",
            "5.14\n",
            "5.14\n",
            "5.140000000000001\n",
            "2 3.14 5.140000000000001 5.140000000000001\n",
            "100.0\n",
            "0.01\n"
          ]
        }
      ]
    },
    {
      "cell_type": "code",
      "source": [
        "item1='사과'\n",
        "price1=1000\n",
        "item2='바나나'\n",
        "price2=500\n",
        "print(item1,price1)\n",
        "print(item2,price2)"
      ],
      "metadata": {
        "colab": {
          "base_uri": "https://localhost:8080/"
        },
        "id": "F5MHxwTKMSvi",
        "outputId": "1f84d88f-0fc1-48ab-c21c-08aebb7c3ba1"
      },
      "execution_count": 22,
      "outputs": [
        {
          "output_type": "stream",
          "name": "stdout",
          "text": [
            "사과 1000\n",
            "바나나 500\n"
          ]
        }
      ]
    },
    {
      "cell_type": "code",
      "source": [
        "item1='사과'\n",
        "price1=1000\n",
        "item2='바나나'\n",
        "price2=500\n",
        "print(item1,price1, sep=',',end='/')\n",
        "print(item2,price2)"
      ],
      "metadata": {
        "colab": {
          "base_uri": "https://localhost:8080/"
        },
        "id": "26YiCuElNPfG",
        "outputId": "8b191588-7409-4e1e-d8c6-2a648dd7a305"
      },
      "execution_count": 27,
      "outputs": [
        {
          "output_type": "stream",
          "name": "stdout",
          "text": [
            "사과,1000/바나나 500\n"
          ]
        }
      ]
    },
    {
      "cell_type": "code",
      "source": [
        "item1='사과'\n",
        "price1=1000\n",
        "item2='바나나'\n",
        "price2=500\n",
        "str1='{0}는 {1}원 입니다.'\n",
        "print(str1.format(item1,price1))\n",
        "print(str1.format(item2,price2))"
      ],
      "metadata": {
        "colab": {
          "base_uri": "https://localhost:8080/"
        },
        "id": "K1Qm-d_TNmRe",
        "outputId": "6a251871-d843-49b7-ee6d-4494b8caf2c8"
      },
      "execution_count": 31,
      "outputs": [
        {
          "output_type": "stream",
          "name": "stdout",
          "text": [
            "사과는 1000원 입니다.\n",
            "바나나는 500원 입니다.\n"
          ]
        }
      ]
    },
    {
      "cell_type": "code",
      "source": [
        "item1='사과'\n",
        "price1=1000\n",
        "item2='바나나'\n",
        "price2=500\n",
        "str2='%s는 %d원 입니다.'\n",
        "print(str2%(item1,price1))\n",
        "print(str2%(item2,price2))"
      ],
      "metadata": {
        "colab": {
          "base_uri": "https://localhost:8080/"
        },
        "id": "BaPqDSVEOX_Y",
        "outputId": "48f4e277-dc44-47ff-9c02-a24538cbc32e"
      },
      "execution_count": 32,
      "outputs": [
        {
          "output_type": "stream",
          "name": "stdout",
          "text": [
            "사과는 1000원 입니다.\n",
            "바나나는 500원 입니다.\n"
          ]
        }
      ]
    }
  ]
}